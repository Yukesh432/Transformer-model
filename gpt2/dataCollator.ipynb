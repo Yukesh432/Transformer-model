{
 "cells": [
  {
   "cell_type": "code",
   "execution_count": 1,
   "metadata": {},
   "outputs": [],
   "source": [
    "import torch\n",
    "\n",
    "class SimpleDataCollator:\n",
    "    def __init__(self, tokenizer, max_length=None):\n",
    "        self.tokenizer = tokenizer\n",
    "        self.max_length = max_length\n",
    "\n",
    "    def __call__(self, batch):\n",
    "        texts = [item['text'] for item in batch]\n",
    "        labels = torch.tensor([item['label'] for item in batch])\n",
    "\n",
    "        # Tokenize and pad the text\n",
    "        encoding = self.tokenizer(texts, padding=True, truncation=True, max_length=self.max_length, return_tensors='pt')\n",
    "\n",
    "        # The tokenizer's output is a dictionary with keys like 'input_ids' and 'attention_mask'\n",
    "        batch = {key: value for key, value in encoding.items()}\n",
    "        batch['labels'] = labels\n",
    "\n",
    "        return batch\n"
   ]
  },
  {
   "cell_type": "code",
   "execution_count": 3,
   "metadata": {},
   "outputs": [
    {
     "name": "stderr",
     "output_type": "stream",
     "text": [
      "Special tokens have been added in the vocabulary, make sure the associated word embeddings are fine-tuned or trained.\n"
     ]
    }
   ],
   "source": [
    "from transformers import GPT2Tokenizer\n",
    "# Example Usage\n",
    "tokenizer = GPT2Tokenizer.from_pretrained('gpt2', bos_token='<|startoftext|>', eos_token='<|endoftext|>', pad_token='<|pad|>') # Initialize your tokenizer\n",
    "data_collator = SimpleDataCollator(tokenizer, max_length=128)\n",
    "\n",
    "# Suppose you have a dataset where each item is a dictionary with 'text' and 'label' keys\n",
    "sample_dataset = [{'text': \"Example sentence\", 'label': 0},\n",
    "{'text': \"Example2 sentence\", 'label': 0},\n",
    "{'text': \"Example3 sentence\", 'label': 1},\n",
    "{'text': \"Example4 sentence\", 'label': 1},\n",
    "{'text': \"Example5 sentence\", 'label': 0},\n",
    "{'text': \"Example6 sentence\", 'label': 0}]\n",
    "\n",
    "# Collate a batch of samples\n",
    "collated_batch = data_collator(sample_dataset)\n"
   ]
  },
  {
   "cell_type": "code",
   "execution_count": null,
   "metadata": {},
   "outputs": [],
   "source": []
  },
  {
   "cell_type": "code",
   "execution_count": 5,
   "metadata": {},
   "outputs": [
    {
     "name": "stdout",
     "output_type": "stream",
     "text": [
      "{'input_ids': tensor([[16281,  6827, 50258],\n",
      "        [16281,    17,  6827],\n",
      "        [16281,    18,  6827],\n",
      "        [16281,    19,  6827],\n",
      "        [16281,    20,  6827],\n",
      "        [16281,    21,  6827]]), 'attention_mask': tensor([[1, 1, 0],\n",
      "        [1, 1, 1],\n",
      "        [1, 1, 1],\n",
      "        [1, 1, 1],\n",
      "        [1, 1, 1],\n",
      "        [1, 1, 1]]), 'labels': tensor([0, 0, 1, 1, 0, 0])}\n",
      "<class 'dict'>\n"
     ]
    }
   ],
   "source": [
    "print(collated_batch)\n",
    "print(type(collated_batch))"
   ]
  },
  {
   "cell_type": "code",
   "execution_count": null,
   "metadata": {},
   "outputs": [],
   "source": []
  }
 ],
 "metadata": {
  "kernelspec": {
   "display_name": "My gpu kernel",
   "language": "python",
   "name": "gputest"
  },
  "language_info": {
   "codemirror_mode": {
    "name": "ipython",
    "version": 3
   },
   "file_extension": ".py",
   "mimetype": "text/x-python",
   "name": "python",
   "nbconvert_exporter": "python",
   "pygments_lexer": "ipython3",
   "version": "3.10.10"
  }
 },
 "nbformat": 4,
 "nbformat_minor": 2
}
