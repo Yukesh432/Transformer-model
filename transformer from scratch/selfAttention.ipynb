{
 "cells": [
  {
   "cell_type": "markdown",
   "metadata": {},
   "source": [
    "\n",
    "**Every single word that is input to a transformer is going to have 3 vectors.** \n",
    "\n",
    "Query: What I'm Looking for?[ sequence length * dk]\n",
    "\n",
    "Key: What I can offer? [sequence length * dk]\n",
    "\n",
    "Value: What I actually offer? [sequence length * dv]\n"
   ]
  },
  {
   "cell_type": "code",
   "execution_count": 2,
   "metadata": {},
   "outputs": [],
   "source": [
    "import numpy as np\n",
    "import math\n",
    "\n",
    "# Here input sentence is : \"My name is Yukesh\"\n",
    "# In the original transformer paper the original vecor embedding is 512 , but here we take the size of 8.\n",
    "L, d_k, d_v= 4, 8, 8\n",
    "\n",
    "q= np.random.randn(L, d_k)\n",
    "k = np.random.randn(L, d_k)\n",
    "v= np.random.randn(L, d_v)"
   ]
  },
  {
   "cell_type": "code",
   "execution_count": 4,
   "metadata": {},
   "outputs": [
    {
     "name": "stdout",
     "output_type": "stream",
     "text": [
      "Query:  [[ 0.8923684  -0.56333787  0.68489984  1.39229119 -0.00955662  0.15714376\n",
      "  -0.63275895 -0.81128324]\n",
      " [-1.12822895  0.25969361  0.36959156 -0.0172476  -0.31501173  0.2019182\n",
      "  -1.00842141 -0.22172332]\n",
      " [ 1.85105337 -0.75598807  1.18565333  2.54005835  2.50852619  1.00212263\n",
      "  -2.03953596  1.6728376 ]\n",
      " [-0.8214566  -1.31764276 -0.39958134  0.61348749  1.46312925  1.54646077\n",
      "  -0.40640202  0.12480838]]\n",
      "Key:  [[ 1.12851897 -0.7861496   0.10245969  1.75488406  2.62988238  0.27516328\n",
      "  -0.1657441   0.71910634]\n",
      " [-1.56512876  0.3563529   1.84003039  0.81677392 -1.26526623 -0.34439344\n",
      "  -0.72222409  0.52305013]\n",
      " [ 0.51190939  2.61045731  0.7003261  -0.25085084 -0.75316026 -0.26655768\n",
      "  -0.30322733 -1.55906172]\n",
      " [ 1.94562659  0.16961366  1.10900622 -0.17459686  0.58646725 -2.39015032\n",
      "   0.26992536 -1.2967811 ]]\n",
      "Value:  [[ 0.10943374  1.7869226  -1.87247558  1.66625975 -0.20259648  0.20012934\n",
      "  -0.48231254  0.34872797]\n",
      " [-0.01871472  1.21117611  0.94117532 -1.45932908  0.20307052  0.70514157\n",
      "  -0.43129181  0.62028055]\n",
      " [-1.25072524  0.31838991 -0.53452599  1.64601169  0.95096831 -0.22691941\n",
      "  -0.05086522  1.68827473]\n",
      " [ 0.29280784 -0.04376056 -0.62720102  1.12780828  0.85761739  0.97352223\n",
      "   1.43275447 -0.13278464]]\n"
     ]
    }
   ],
   "source": [
    "print(\"Query: \", q)\n",
    "print(\"Key: \", k)\n",
    "print(\"Value: \", v)"
   ]
  },
  {
   "cell_type": "code",
   "execution_count": 5,
   "metadata": {},
   "outputs": [
    {
     "data": {
      "text/plain": [
       "array([[ 3.50299131,  0.79062948,  0.53865837,  2.65719163],\n",
       "       [-2.23497117,  3.46570669,  1.19842204, -2.39020474],\n",
       "       [15.67612349, -0.08134187, -4.97879453,  0.70076153],\n",
       "       [ 5.57498968, -1.44306631, -5.87943616, -5.48173286]])"
      ]
     },
     "execution_count": 5,
     "metadata": {},
     "output_type": "execute_result"
    }
   ],
   "source": [
    "np.matmul(q, k.T)"
   ]
  },
  {
   "cell_type": "markdown",
   "metadata": {},
   "source": [
    "Self Attention= softmax(Q. K_t/ sqrt(d_k)+ M)* V"
   ]
  },
  {
   "cell_type": "code",
   "execution_count": 7,
   "metadata": {},
   "outputs": [],
   "source": [
    "# why we need sqrt(d_k) in denominator?\n",
    "# ---> To reduce Variance"
   ]
  },
  {
   "cell_type": "code",
   "execution_count": 17,
   "metadata": {},
   "outputs": [
    {
     "name": "stdout",
     "output_type": "stream",
     "text": [
      "The varience before dividing of \n",
      " query is 1.2203006500310023, \n",
      " key is 1.3792333167950637 \n",
      " value is 25.2985192375832 \n",
      "\n",
      "\n",
      "The varience after dividing of \n",
      " query is 1.2203006500310023, \n",
      " key is 1.3792333167950637 \n",
      " value is 3.162314904697899 \n"
     ]
    }
   ],
   "source": [
    "# Before dividing\n",
    "print(f\"The varience before dividing of \\n query is {q.var()}, \\n key is {k.var()} \\n value is {np.matmul(q, k.T).var()} \")\n",
    "\n",
    "#After dividing\n",
    "scaled= np.matmul(q, k.T)/ math.sqrt(d_k)\n",
    "print(f\"\\n\\nThe varience after dividing of \\n query is {q.var()}, \\n key is {k.var()} \\n value is {scaled.var()} \")"
   ]
  },
  {
   "cell_type": "code",
   "execution_count": 21,
   "metadata": {},
   "outputs": [
    {
     "data": {
      "text/plain": [
       "array([[1., 0., 0., 0.],\n",
       "       [1., 1., 0., 0.],\n",
       "       [1., 1., 1., 0.],\n",
       "       [1., 1., 1., 1.]])"
      ]
     },
     "execution_count": 21,
     "metadata": {},
     "output_type": "execute_result"
    }
   ],
   "source": [
    "mask= np.tril(np.ones((L, L)))  # creating a lower triangular matrix for masking purpose\n",
    "mask"
   ]
  },
  {
   "cell_type": "code",
   "execution_count": 22,
   "metadata": {},
   "outputs": [
    {
     "data": {
      "text/plain": [
       "array([[  0., -inf, -inf, -inf],\n",
       "       [  0.,   0., -inf, -inf],\n",
       "       [  0.,   0.,   0., -inf],\n",
       "       [  0.,   0.,   0.,   0.]])"
      ]
     },
     "execution_count": 22,
     "metadata": {},
     "output_type": "execute_result"
    }
   ],
   "source": [
    "mask[mask==0]= -np.infty\n",
    "mask[mask==1]= 0\n",
    "mask"
   ]
  },
  {
   "cell_type": "code",
   "execution_count": 23,
   "metadata": {},
   "outputs": [
    {
     "data": {
      "text/plain": [
       "array([[ 1.23849445,        -inf,        -inf,        -inf],\n",
       "       [-0.79018164,  1.22531235,        -inf,        -inf],\n",
       "       [ 5.54234661, -0.02875869, -1.76026969,        -inf],\n",
       "       [ 1.97105651, -0.51020099, -2.07869459, -1.93808524]])"
      ]
     },
     "execution_count": 23,
     "metadata": {},
     "output_type": "execute_result"
    }
   ],
   "source": [
    "scaled+ mask"
   ]
  },
  {
   "cell_type": "code",
   "execution_count": 24,
   "metadata": {},
   "outputs": [
    {
     "data": {
      "text/plain": [
       "array([[1.00000000e+00, 0.00000000e+00, 0.00000000e+00, 0.00000000e+00],\n",
       "       [1.17585727e-01, 8.82414273e-01, 0.00000000e+00, 0.00000000e+00],\n",
       "       [9.95539937e-01, 3.78929482e-03, 6.70768601e-04, 0.00000000e+00],\n",
       "       [8.91963264e-01, 7.46020103e-02, 1.55439867e-02, 1.78907390e-02]])"
      ]
     },
     "execution_count": 24,
     "metadata": {},
     "output_type": "execute_result"
    }
   ],
   "source": [
    "# applying softmax\n",
    "\n",
    "def softmax(x):\n",
    "    return (np.exp(x).T / np.sum(np.exp(x), axis=-1)).T\n",
    "\n",
    "attention= softmax(scaled + mask)\n",
    "attention"
   ]
  },
  {
   "cell_type": "code",
   "execution_count": 25,
   "metadata": {},
   "outputs": [
    {
     "data": {
      "text/plain": [
       "array([[ 0.10943374,  1.7869226 , -1.87247558,  1.66625975, -0.20259648,\n",
       "         0.20012934, -0.48231254,  0.34872797],\n",
       "       [-0.00364629,  1.27887568,  0.61033013, -1.09180444,  0.15536987,\n",
       "         0.64575934, -0.43729112,  0.58834984],\n",
       "       [ 0.10803579,  1.78375588, -1.86091638,  1.65440239, -0.20028551,\n",
       "         0.20175653, -0.4818298 ,  0.35065549],\n",
       "       [ 0.08201201,  1.68839163, -1.61949562,  1.42313651, -0.1354339 ,\n",
       "         0.2450028 , -0.43753791,  0.38119362]])"
      ]
     },
     "execution_count": 25,
     "metadata": {},
     "output_type": "execute_result"
    }
   ],
   "source": [
    "new_v= np.matmul(attention, v)\n",
    "new_v"
   ]
  },
  {
   "cell_type": "code",
   "execution_count": 26,
   "metadata": {},
   "outputs": [
    {
     "data": {
      "text/plain": [
       "array([[ 0.10943374,  1.7869226 , -1.87247558,  1.66625975, -0.20259648,\n",
       "         0.20012934, -0.48231254,  0.34872797],\n",
       "       [-0.01871472,  1.21117611,  0.94117532, -1.45932908,  0.20307052,\n",
       "         0.70514157, -0.43129181,  0.62028055],\n",
       "       [-1.25072524,  0.31838991, -0.53452599,  1.64601169,  0.95096831,\n",
       "        -0.22691941, -0.05086522,  1.68827473],\n",
       "       [ 0.29280784, -0.04376056, -0.62720102,  1.12780828,  0.85761739,\n",
       "         0.97352223,  1.43275447, -0.13278464]])"
      ]
     },
     "execution_count": 26,
     "metadata": {},
     "output_type": "execute_result"
    }
   ],
   "source": [
    "v"
   ]
  },
  {
   "cell_type": "code",
   "execution_count": null,
   "metadata": {},
   "outputs": [],
   "source": []
  }
 ],
 "metadata": {
  "kernelspec": {
   "display_name": "My gpu kernel",
   "language": "python",
   "name": "gputest"
  },
  "language_info": {
   "codemirror_mode": {
    "name": "ipython",
    "version": 3
   },
   "file_extension": ".py",
   "mimetype": "text/x-python",
   "name": "python",
   "nbconvert_exporter": "python",
   "pygments_lexer": "ipython3",
   "version": "3.10.10"
  },
  "orig_nbformat": 4
 },
 "nbformat": 4,
 "nbformat_minor": 2
}
